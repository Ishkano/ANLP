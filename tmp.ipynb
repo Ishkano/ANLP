{
 "cells": [
  {
   "cell_type": "code",
   "execution_count": 1,
   "outputs": [
    {
     "name": "stdout",
     "output_type": "stream",
     "text": [
      "MLPNet(\n",
      "  (linear_relu_stack): Sequential(\n",
      "    (0): Linear(in_features=7172, out_features=717, bias=True)\n",
      "    (1): ReLU()\n",
      "    (2): Linear(in_features=717, out_features=71, bias=True)\n",
      "    (3): ReLU()\n",
      "    (4): Linear(in_features=71, out_features=2, bias=True)\n",
      "  )\n",
      ")\n"
     ]
    }
   ],
   "source": [
    "import torch\n",
    "from torch import nn\n",
    "from text_preproc import TextPreproc\n",
    "\n",
    "class MLPNet(nn.Module):\n",
    "\n",
    "    def __init__(self, vec_len):\n",
    "        super().__init__()\n",
    "        #self.flatten = nn.Flatten\n",
    "        self.linear_relu_stack = nn.Sequential(\n",
    "            nn.Linear(in_features=vec_len, out_features=vec_len//10, bias=True),\n",
    "            nn.ReLU(),\n",
    "            nn.Linear(in_features=vec_len//10, out_features=vec_len//100, bias=True),\n",
    "            nn.ReLU(),\n",
    "            nn.Linear(in_features=vec_len//100, out_features=2, bias=True)\n",
    "        )\n",
    "\n",
    "    def forward(self, x):\n",
    "        #x = self.flatten(x)\n",
    "        return self.linear_relu_stack(x)\n",
    "\n",
    "device = 'cuda' if torch.cuda.is_available() else 'cpu'\n",
    "preproc_model = TextPreproc(rebalance=True)\n",
    "net_model = MLPNet(preproc_model.get_vector_len()).to(device)\n",
    "print(net_model)\n",
    "\n",
    "loss_fn = nn.CrossEntropyLoss()\n",
    "optimizer = torch.optim.SGD(net_model.parameters(), lr=1e-3)"
   ],
   "metadata": {
    "collapsed": false,
    "pycharm": {
     "name": "#%%\n"
    }
   }
  },
  {
   "cell_type": "code",
   "execution_count": 2,
   "outputs": [
    {
     "name": "stdout",
     "output_type": "stream",
     "text": [
      "torch.Size([1, 7172]) torch.Size([1])\n",
      "tensor([[0., 0., 0.,  ..., 0., 0., 0.]]) tensor([0])\n"
     ]
    }
   ],
   "source": [
    "from torch.utils.data import DataLoader, Dataset\n",
    "\n",
    "class VecLoader(Dataset):\n",
    "\n",
    "    def __init__(self, preproc_model, is_test=False):\n",
    "        super().__init__()\n",
    "        train, test = preproc_model.get_train_test_preprocd()\n",
    "\n",
    "        if not is_test:\n",
    "            x = train[train.columns[:-1]].values\n",
    "            y = train[train.columns[-1]].values\n",
    "        else:\n",
    "            x = test[train.columns[:-1]].values\n",
    "            y = test[train.columns[-1]].values\n",
    "\n",
    "        self.x_train = torch.tensor(x).to(torch.float32)\n",
    "        self.y_train = torch.tensor(y).to(torch.long)\n",
    "\n",
    "    def __len__(self):\n",
    "        return len(self.y_train)\n",
    "\n",
    "    def __getitem__(self, idx):\n",
    "        return self.x_train[idx], self.y_train[idx]\n",
    "\n",
    "\n",
    "train_loader = DataLoader(VecLoader(preproc_model), batch_size=1,shuffle=False)\n",
    "for i, (data, labels) in enumerate(train_loader):\n",
    "    print(data.shape, labels.shape)\n",
    "    print(data, labels)\n",
    "    break"
   ],
   "metadata": {
    "collapsed": false,
    "pycharm": {
     "name": "#%%\n"
    }
   }
  },
  {
   "cell_type": "code",
   "execution_count": 3,
   "outputs": [
    {
     "name": "stdout",
     "output_type": "stream",
     "text": [
      "Epoch 1\n",
      "-------------------------------\n",
      "loss: 0.713981  [    0/ 7392]\n",
      "loss: 0.677244  [ 1000/ 7392]\n",
      "loss: 0.731254  [ 2000/ 7392]\n",
      "loss: 0.660710  [ 3000/ 7392]\n",
      "loss: 0.643532  [ 4000/ 7392]\n",
      "loss: 0.652796  [ 5000/ 7392]\n",
      "loss: 0.667144  [ 6000/ 7392]\n",
      "loss: 0.644526  [ 7000/ 7392]\n",
      "Test Error: \n",
      " Accuracy: 85.7%, Avg loss: 0.665554 \n",
      "\n",
      "Epoch 2\n",
      "-------------------------------\n",
      "loss: 0.655800  [    0/ 7392]\n",
      "loss: 0.645557  [ 1000/ 7392]\n",
      "loss: 0.748385  [ 2000/ 7392]\n",
      "loss: 0.650925  [ 3000/ 7392]\n",
      "loss: 0.636892  [ 4000/ 7392]\n",
      "loss: 0.649345  [ 5000/ 7392]\n",
      "loss: 0.665044  [ 6000/ 7392]\n",
      "loss: 0.642327  [ 7000/ 7392]\n",
      "Test Error: \n",
      " Accuracy: 85.7%, Avg loss: 0.664228 \n",
      "\n",
      "Epoch 3\n",
      "-------------------------------\n",
      "loss: 0.655155  [    0/ 7392]\n",
      "loss: 0.644227  [ 1000/ 7392]\n",
      "loss: 0.747045  [ 2000/ 7392]\n",
      "loss: 0.649771  [ 3000/ 7392]\n",
      "loss: 0.634784  [ 4000/ 7392]\n",
      "loss: 0.648424  [ 5000/ 7392]\n",
      "loss: 0.664511  [ 6000/ 7392]\n",
      "loss: 0.640118  [ 7000/ 7392]\n",
      "Test Error: \n",
      " Accuracy: 85.7%, Avg loss: 0.662860 \n",
      "\n",
      "Epoch 4\n",
      "-------------------------------\n",
      "loss: 0.655153  [    0/ 7392]\n",
      "loss: 0.642759  [ 1000/ 7392]\n",
      "loss: 0.743994  [ 2000/ 7392]\n",
      "loss: 0.647930  [ 3000/ 7392]\n",
      "loss: 0.631153  [ 4000/ 7392]\n",
      "loss: 0.646993  [ 5000/ 7392]\n",
      "loss: 0.663400  [ 6000/ 7392]\n",
      "loss: 0.636180  [ 7000/ 7392]\n",
      "Test Error: \n",
      " Accuracy: 85.7%, Avg loss: 0.660348 \n",
      "\n",
      "Epoch 5\n",
      "-------------------------------\n",
      "loss: 0.655663  [    0/ 7392]\n",
      "loss: 0.639896  [ 1000/ 7392]\n",
      "loss: 0.737543  [ 2000/ 7392]\n",
      "loss: 0.644477  [ 3000/ 7392]\n",
      "loss: 0.623923  [ 4000/ 7392]\n",
      "loss: 0.644178  [ 5000/ 7392]\n",
      "loss: 0.660186  [ 6000/ 7392]\n",
      "loss: 0.627917  [ 7000/ 7392]\n",
      "Test Error: \n",
      " Accuracy: 86.6%, Avg loss: 0.655100 \n",
      "\n",
      "Epoch 6\n",
      "-------------------------------\n",
      "loss: 0.657357  [    0/ 7392]\n",
      "loss: 0.633728  [ 1000/ 7392]\n",
      "loss: 0.721150  [ 2000/ 7392]\n",
      "loss: 0.636153  [ 3000/ 7392]\n",
      "loss: 0.607427  [ 4000/ 7392]\n",
      "loss: 0.636092  [ 5000/ 7392]\n",
      "loss: 0.650067  [ 6000/ 7392]\n",
      "loss: 0.607031  [ 7000/ 7392]\n",
      "Test Error: \n",
      " Accuracy: 93.7%, Avg loss: 0.641711 \n",
      "\n",
      "Epoch 7\n",
      "-------------------------------\n",
      "loss: 0.661748  [    0/ 7392]\n",
      "loss: 0.617052  [ 1000/ 7392]\n",
      "loss: 0.674587  [ 2000/ 7392]\n",
      "loss: 0.609186  [ 3000/ 7392]\n",
      "loss: 0.561653  [ 4000/ 7392]\n",
      "loss: 0.607018  [ 5000/ 7392]\n",
      "loss: 0.608266  [ 6000/ 7392]\n",
      "loss: 0.549289  [ 7000/ 7392]\n",
      "Test Error: \n",
      " Accuracy: 97.0%, Avg loss: 0.600528 \n",
      "\n",
      "Saved PyTorch Model State to MLPNet.pth\n",
      "Epoch 8\n",
      "-------------------------------\n",
      "loss: 0.680220  [    0/ 7392]\n",
      "loss: 0.554791  [ 1000/ 7392]\n",
      "loss: 0.515327  [ 2000/ 7392]\n",
      "loss: 0.497685  [ 3000/ 7392]\n",
      "loss: 0.422426  [ 4000/ 7392]\n",
      "loss: 0.475780  [ 5000/ 7392]\n",
      "loss: 0.438618  [ 6000/ 7392]\n",
      "loss: 0.383580  [ 7000/ 7392]\n",
      "Test Error: \n",
      " Accuracy: 96.8%, Avg loss: 0.441552 \n",
      "\n",
      "Saved PyTorch Model State to MLPNet.pth\n",
      "Epoch 9\n",
      "-------------------------------\n",
      "loss: 0.684874  [    0/ 7392]\n",
      "loss: 0.336802  [ 1000/ 7392]\n",
      "loss: 0.177323  [ 2000/ 7392]\n",
      "loss: 0.221625  [ 3000/ 7392]\n",
      "loss: 0.184319  [ 4000/ 7392]\n",
      "loss: 0.223098  [ 5000/ 7392]\n",
      "loss: 0.180520  [ 6000/ 7392]\n",
      "loss: 0.171110  [ 7000/ 7392]\n",
      "Test Error: \n",
      " Accuracy: 97.5%, Avg loss: 0.236625 \n",
      "\n",
      "Saved PyTorch Model State to MLPNet.pth\n",
      "Epoch 10\n",
      "-------------------------------\n",
      "loss: 0.603354  [    0/ 7392]\n",
      "loss: 0.120075  [ 1000/ 7392]\n",
      "loss: 0.031427  [ 2000/ 7392]\n",
      "loss: 0.076254  [ 3000/ 7392]\n",
      "loss: 0.065676  [ 4000/ 7392]\n",
      "loss: 0.091263  [ 5000/ 7392]\n",
      "loss: 0.069548  [ 6000/ 7392]\n",
      "loss: 0.079417  [ 7000/ 7392]\n",
      "Test Error: \n",
      " Accuracy: 97.5%, Avg loss: 0.148485 \n",
      "\n",
      "Saved PyTorch Model State to MLPNet.pth\n",
      "Done!\n"
     ]
    }
   ],
   "source": [
    "def train(data_loader, model, loss_fn, optimizer):\n",
    "\n",
    "    size = len(data_loader.dataset)\n",
    "    model.train()\n",
    "\n",
    "    for batch, (X, y) in enumerate(train_loader):\n",
    "        X, y = X.to(device), y.to(device)\n",
    "\n",
    "        # loss between forward and real vals\n",
    "        pred = model(X)\n",
    "        loss = loss_fn(pred, y)\n",
    "\n",
    "        # backpropagation\n",
    "        optimizer.zero_grad()\n",
    "        loss.backward()\n",
    "        optimizer.step()\n",
    "\n",
    "        if batch % 1000 == 0:\n",
    "            loss, current = loss.item(), batch * len(X)\n",
    "            print(f\"loss: {loss:>7f}  [{current:>5d}/{size:>5d}]\")\n",
    "\n",
    "def test(dataloader, model, loss_fn):\n",
    "\n",
    "    size = len(dataloader.dataset)\n",
    "    num_batches = len(dataloader)\n",
    "    model.eval()\n",
    "    test_loss, correct = 0, 0\n",
    "\n",
    "    with torch.no_grad():\n",
    "        for X, y in dataloader:\n",
    "            X, y = X.to(device), y.to(device)\n",
    "            pred = model(X)\n",
    "            test_loss += loss_fn(pred, y).item()\n",
    "            correct += (pred.argmax(1) == y).type(torch.float).sum().item()\n",
    "\n",
    "    test_loss /= num_batches\n",
    "    correct /= size\n",
    "    print(f\"Test Error: \\n Accuracy: {(100*correct):>0.1f}%, Avg loss: {test_loss:>8f} \\n\")\n",
    "\n",
    "    if correct > 0.95:\n",
    "        torch.save(net_model.state_dict(), \"MLPNet.pth\")\n",
    "        print(\"Saved PyTorch Model State to MLPNet.pth\")\n",
    "\n",
    "epochs = 10\n",
    "test_loader = DataLoader(VecLoader(preproc_model, is_test=True), batch_size=10, shuffle=False)\n",
    "for t in range(epochs):\n",
    "    print(f\"Epoch {t+1}\\n-------------------------------\")\n",
    "    train(train_loader, net_model, loss_fn, optimizer)\n",
    "    test(test_loader, net_model, loss_fn)\n",
    "\n",
    "print(\"Done!\")"
   ],
   "metadata": {
    "collapsed": false,
    "pycharm": {
     "name": "#%%\n"
    }
   }
  },
  {
   "cell_type": "code",
   "execution_count": 4,
   "outputs": [
    {
     "name": "stdout",
     "output_type": "stream",
     "text": [
      "tensor(1, device='cuda:0') 1.0\n",
      "tensor(0, device='cuda:0') 0.0\n",
      "tensor(0, device='cuda:0') 0.0\n",
      "tensor(0, device='cuda:0') 0.0\n",
      "tensor(0, device='cuda:0') 0.0\n"
     ]
    }
   ],
   "source": [
    "import random\n",
    "\n",
    "random.seed(40)\n",
    "_, test = preproc_model.get_train_test_preprocd()\n",
    "for i in range(5):\n",
    "    n = random.randint(0, len(test))\n",
    "    x = torch.Tensor([test.iloc[n][test.columns[:-1]]]).to(torch.float32).to(device)\n",
    "    print(net_model(x).argmax(), test.iloc[n][test.columns[-1]])"
   ],
   "metadata": {
    "collapsed": false,
    "pycharm": {
     "name": "#%%\n"
    }
   }
  },
  {
   "cell_type": "code",
   "execution_count": 14,
   "outputs": [
    {
     "name": "stdout",
     "output_type": "stream",
     "text": [
      "[0, 0, 0, 0, 0, 1, 1, 0, 0, 0, 0, 0, 1] \n",
      " [0, 1, 0, 1, 0, 1, 1, 1, 1, 0, 0, 1, 1]\n",
      "accuracy: 0.6153846153846154\n",
      "precision: 0.375\n",
      "recall: 1.0\n",
      "f1_score: 0.5454545454545454\n"
     ]
    }
   ],
   "source": [
    "from sklearn.metrics import accuracy_score, precision_score, recall_score, f1_score\n",
    "\n",
    "spam_dict = {\"Hi, how are you feeling? You haven't written for a long time, so I thought something might have happened.\": 0,\n",
    "              'Only today! buy one king-size pizza, get one cola for free! Hurry up!': 1,\n",
    "              'love you sweetie :)': 0,\n",
    "              \"Buy my book and I'll tell you how to become rich!\": 1,\n",
    "              'bae i cannot wait anymore. I want you now!': 0,\n",
    "              'You’ve won a price! our phone number: +7 911 XXX-XX-XX': 1,\n",
    "              'The IRS is trying to contact you': 1,\n",
    "              'You have a refund coming': 1,\n",
    "              'Verify your bank account': 1,\n",
    "              'You have a package delivery': 0,\n",
    "              'Verify your Apple iCloud ID': 0,\n",
    "              'A family member needs help': 1,\n",
    "              'You have a new billing statement': 1}\n",
    "\n",
    "pred_y, real_y = [], list(spam_dict.values())\n",
    "for letter in spam_dict:\n",
    "    vectorized_letter = preproc_model.preproc_letter(letter)\n",
    "    pred_y.append(net_model(torch.Tensor(vectorized_letter[0]).to(torch.float32).to(device)).argmax().item())\n",
    "\n",
    "print(pred_y, '\\n', real_y)\n",
    "print('accuracy:', accuracy_score(pred_y, real_y))\n",
    "print('precision:', precision_score(pred_y, real_y))\n",
    "print('recall:', recall_score(pred_y, real_y))\n",
    "print('f1_score:', f1_score(pred_y, real_y))"
   ],
   "metadata": {
    "collapsed": false,
    "pycharm": {
     "name": "#%%\n"
    }
   }
  },
  {
   "cell_type": "code",
   "execution_count": null,
   "outputs": [],
   "source": [],
   "metadata": {
    "collapsed": false,
    "pycharm": {
     "name": "#%%\n"
    }
   }
  }
 ],
 "metadata": {
  "kernelspec": {
   "display_name": "Python 3",
   "language": "python",
   "name": "python3"
  },
  "language_info": {
   "codemirror_mode": {
    "name": "ipython",
    "version": 2
   },
   "file_extension": ".py",
   "mimetype": "text/x-python",
   "name": "python",
   "nbconvert_exporter": "python",
   "pygments_lexer": "ipython2",
   "version": "2.7.6"
  }
 },
 "nbformat": 4,
 "nbformat_minor": 0
}