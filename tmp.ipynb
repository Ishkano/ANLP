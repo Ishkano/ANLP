{
 "cells": [
  {
   "cell_type": "code",
   "execution_count": 1,
   "outputs": [
    {
     "name": "stdout",
     "output_type": "stream",
     "text": [
      "MLPNet(\n",
      "  (linear_relu_stack): Sequential(\n",
      "    (0): Linear(in_features=7370, out_features=737, bias=True)\n",
      "    (1): ReLU()\n",
      "    (2): Linear(in_features=737, out_features=73, bias=True)\n",
      "    (3): ReLU()\n",
      "    (4): Linear(in_features=73, out_features=2, bias=True)\n",
      "  )\n",
      ")\n"
     ]
    }
   ],
   "source": [
    "import torch\n",
    "from torch import nn\n",
    "from text_preproc import TextPreproc\n",
    "\n",
    "class MLPNet(nn.Module):\n",
    "\n",
    "    def __init__(self, vec_len):\n",
    "        super().__init__()\n",
    "        #self.flatten = nn.Flatten\n",
    "        self.linear_relu_stack = nn.Sequential(\n",
    "            nn.Linear(in_features=vec_len, out_features=vec_len//10, bias=True),\n",
    "            nn.ReLU(),\n",
    "            nn.Linear(in_features=vec_len//10, out_features=vec_len//100, bias=True),\n",
    "            nn.ReLU(),\n",
    "            nn.Linear(in_features=vec_len//100, out_features=2, bias=True)\n",
    "        )\n",
    "\n",
    "    def forward(self, x):\n",
    "        #x = self.flatten(x)\n",
    "        return self.linear_relu_stack(x)\n",
    "\n",
    "device = 'cuda' if torch.cuda.is_available() else 'cpu'\n",
    "preproc_model = TextPreproc(rebalance=True)\n",
    "net_model = MLPNet(preproc_model.get_vector_len()).to(device)\n",
    "print(net_model)\n",
    "\n",
    "loss_fn = nn.CrossEntropyLoss()\n",
    "optimizer = torch.optim.SGD(net_model.parameters(), lr=1e-3)"
   ],
   "metadata": {
    "collapsed": false,
    "pycharm": {
     "name": "#%%\n"
    }
   }
  },
  {
   "cell_type": "code",
   "execution_count": 2,
   "outputs": [
    {
     "name": "stdout",
     "output_type": "stream",
     "text": [
      "torch.Size([1, 7370]) torch.Size([1])\n",
      "tensor([[0., 0., 0.,  ..., 0., 0., 0.]]) tensor([0])\n"
     ]
    }
   ],
   "source": [
    "from torch.utils.data import DataLoader, Dataset\n",
    "\n",
    "class VecLoader(Dataset):\n",
    "\n",
    "    def __init__(self, preproc_model, is_test=False):\n",
    "        super().__init__()\n",
    "        train, test = preproc_model.get_train_test_preprocd()\n",
    "\n",
    "        if not is_test:\n",
    "            x = train[train.columns[:-1]].values\n",
    "            y = train[train.columns[-1]].values\n",
    "        else:\n",
    "            x = test[train.columns[:-1]].values\n",
    "            y = test[train.columns[-1]].values\n",
    "\n",
    "        self.x_train = torch.tensor(x).to(torch.float32)\n",
    "        self.y_train = torch.tensor(y).to(torch.long)\n",
    "\n",
    "    def __len__(self):\n",
    "        return len(self.y_train)\n",
    "\n",
    "    def __getitem__(self, idx):\n",
    "        return self.x_train[idx], self.y_train[idx]\n",
    "\n",
    "\n",
    "train_loader = DataLoader(VecLoader(preproc_model), batch_size=1,shuffle=False)\n",
    "for i, (data, labels) in enumerate(train_loader):\n",
    "    print(data.shape, labels.shape)\n",
    "    print(data, labels)\n",
    "    break"
   ],
   "metadata": {
    "collapsed": false,
    "pycharm": {
     "name": "#%%\n"
    }
   }
  },
  {
   "cell_type": "code",
   "execution_count": 3,
   "outputs": [
    {
     "name": "stdout",
     "output_type": "stream",
     "text": [
      "Epoch 1\n",
      "-------------------------------\n",
      "loss: 0.656216  [    0/ 7445]\n",
      "loss: 0.658321  [ 1000/ 7445]\n",
      "loss: 0.649914  [ 2000/ 7445]\n",
      "loss: 0.646899  [ 3000/ 7445]\n",
      "loss: 0.648837  [ 4000/ 7445]\n",
      "loss: 0.759127  [ 5000/ 7445]\n",
      "loss: 0.729092  [ 6000/ 7445]\n",
      "loss: 0.730814  [ 7000/ 7445]\n",
      "Test Error: \n",
      " Accuracy: 52.1%, Avg loss: 0.691794 \n",
      "\n",
      "Epoch 2\n",
      "-------------------------------\n",
      "loss: 0.663754  [    0/ 7445]\n",
      "loss: 0.661707  [ 1000/ 7445]\n",
      "loss: 0.650484  [ 2000/ 7445]\n",
      "loss: 0.646793  [ 3000/ 7445]\n",
      "loss: 0.648759  [ 4000/ 7445]\n",
      "loss: 0.758124  [ 5000/ 7445]\n",
      "loss: 0.727356  [ 6000/ 7445]\n",
      "loss: 0.728802  [ 7000/ 7445]\n",
      "Test Error: \n",
      " Accuracy: 52.1%, Avg loss: 0.690681 \n",
      "\n",
      "Epoch 3\n",
      "-------------------------------\n",
      "loss: 0.663808  [    0/ 7445]\n",
      "loss: 0.661175  [ 1000/ 7445]\n",
      "loss: 0.649290  [ 2000/ 7445]\n",
      "loss: 0.645298  [ 3000/ 7445]\n",
      "loss: 0.647583  [ 4000/ 7445]\n",
      "loss: 0.757681  [ 5000/ 7445]\n",
      "loss: 0.725689  [ 6000/ 7445]\n",
      "loss: 0.726263  [ 7000/ 7445]\n",
      "Test Error: \n",
      " Accuracy: 52.1%, Avg loss: 0.688753 \n",
      "\n",
      "Epoch 4\n",
      "-------------------------------\n",
      "loss: 0.662838  [    0/ 7445]\n",
      "loss: 0.660128  [ 1000/ 7445]\n",
      "loss: 0.646400  [ 2000/ 7445]\n",
      "loss: 0.643002  [ 3000/ 7445]\n",
      "loss: 0.645043  [ 4000/ 7445]\n",
      "loss: 0.756262  [ 5000/ 7445]\n",
      "loss: 0.722141  [ 6000/ 7445]\n",
      "loss: 0.721480  [ 7000/ 7445]\n",
      "Test Error: \n",
      " Accuracy: 52.1%, Avg loss: 0.684967 \n",
      "\n",
      "Epoch 5\n",
      "-------------------------------\n",
      "loss: 0.660791  [    0/ 7445]\n",
      "loss: 0.657040  [ 1000/ 7445]\n",
      "loss: 0.641086  [ 2000/ 7445]\n",
      "loss: 0.637846  [ 3000/ 7445]\n",
      "loss: 0.640167  [ 4000/ 7445]\n",
      "loss: 0.752989  [ 5000/ 7445]\n",
      "loss: 0.714420  [ 6000/ 7445]\n",
      "loss: 0.710730  [ 7000/ 7445]\n",
      "Test Error: \n",
      " Accuracy: 61.9%, Avg loss: 0.676083 \n",
      "\n",
      "Epoch 6\n",
      "-------------------------------\n",
      "loss: 0.655915  [    0/ 7445]\n",
      "loss: 0.648068  [ 1000/ 7445]\n",
      "loss: 0.627717  [ 2000/ 7445]\n",
      "loss: 0.623229  [ 3000/ 7445]\n",
      "loss: 0.627743  [ 4000/ 7445]\n",
      "loss: 0.744357  [ 5000/ 7445]\n",
      "loss: 0.694447  [ 6000/ 7445]\n",
      "loss: 0.682463  [ 7000/ 7445]\n",
      "Test Error: \n",
      " Accuracy: 85.4%, Avg loss: 0.650604 \n",
      "\n",
      "Epoch 7\n",
      "-------------------------------\n",
      "loss: 0.640942  [    0/ 7445]\n",
      "loss: 0.620958  [ 1000/ 7445]\n",
      "loss: 0.592214  [ 2000/ 7445]\n",
      "loss: 0.580614  [ 3000/ 7445]\n",
      "loss: 0.592376  [ 4000/ 7445]\n",
      "loss: 0.703912  [ 5000/ 7445]\n",
      "loss: 0.628063  [ 6000/ 7445]\n",
      "loss: 0.571455  [ 7000/ 7445]\n",
      "Test Error: \n",
      " Accuracy: 92.7%, Avg loss: 0.562998 \n",
      "\n",
      "Epoch 8\n",
      "-------------------------------\n",
      "loss: 0.598714  [    0/ 7445]\n",
      "loss: 0.527386  [ 1000/ 7445]\n",
      "loss: 0.492674  [ 2000/ 7445]\n",
      "loss: 0.457084  [ 3000/ 7445]\n",
      "loss: 0.493086  [ 4000/ 7445]\n",
      "loss: 0.503600  [ 5000/ 7445]\n",
      "loss: 0.418169  [ 6000/ 7445]\n",
      "loss: 0.224951  [ 7000/ 7445]\n",
      "Test Error: \n",
      " Accuracy: 94.9%, Avg loss: 0.345475 \n",
      "\n",
      "Epoch 9\n",
      "-------------------------------\n",
      "loss: 0.461919  [    0/ 7445]\n",
      "loss: 0.330528  [ 1000/ 7445]\n",
      "loss: 0.323367  [ 2000/ 7445]\n",
      "loss: 0.291795  [ 3000/ 7445]\n",
      "loss: 0.326193  [ 4000/ 7445]\n",
      "loss: 0.169833  [ 5000/ 7445]\n",
      "loss: 0.156527  [ 6000/ 7445]\n",
      "loss: 0.043674  [ 7000/ 7445]\n",
      "Test Error: \n",
      " Accuracy: 96.0%, Avg loss: 0.189408 \n",
      "\n",
      "Saved PyTorch Model State to MLPNet.pth\n",
      "Epoch 10\n",
      "-------------------------------\n",
      "loss: 0.337114  [    0/ 7445]\n",
      "loss: 0.181328  [ 1000/ 7445]\n",
      "loss: 0.198863  [ 2000/ 7445]\n",
      "loss: 0.215039  [ 3000/ 7445]\n",
      "loss: 0.220162  [ 4000/ 7445]\n",
      "loss: 0.055737  [ 5000/ 7445]\n",
      "loss: 0.051591  [ 6000/ 7445]\n",
      "loss: 0.014044  [ 7000/ 7445]\n",
      "Test Error: \n",
      " Accuracy: 97.4%, Avg loss: 0.128315 \n",
      "\n",
      "Saved PyTorch Model State to MLPNet.pth\n",
      "Done!\n"
     ]
    }
   ],
   "source": [
    "def train(data_loader, model, loss_fn, optimizer):\n",
    "\n",
    "    size = len(data_loader.dataset)\n",
    "    model.train()\n",
    "\n",
    "    for batch, (X, y) in enumerate(train_loader):\n",
    "        X, y = X.to(device), y.to(device)\n",
    "\n",
    "        # loss between forward and real vals\n",
    "        pred = model(X)\n",
    "        loss = loss_fn(pred, y)\n",
    "\n",
    "        # backpropagation\n",
    "        optimizer.zero_grad()\n",
    "        loss.backward()\n",
    "        optimizer.step()\n",
    "\n",
    "        if batch % 1000 == 0:\n",
    "            loss, current = loss.item(), batch * len(X)\n",
    "            print(f\"loss: {loss:>7f}  [{current:>5d}/{size:>5d}]\")\n",
    "\n",
    "def test(dataloader, model, loss_fn):\n",
    "\n",
    "    size = len(dataloader.dataset)\n",
    "    num_batches = len(dataloader)\n",
    "    model.eval()\n",
    "    test_loss, correct = 0, 0\n",
    "\n",
    "    with torch.no_grad():\n",
    "        for X, y in dataloader:\n",
    "            X, y = X.to(device), y.to(device)\n",
    "            pred = model(X)\n",
    "            test_loss += loss_fn(pred, y).item()\n",
    "            correct += (pred.argmax(1) == y).type(torch.float).sum().item()\n",
    "\n",
    "    test_loss /= num_batches\n",
    "    correct /= size\n",
    "    print(f\"Test Error: \\n Accuracy: {(100*correct):>0.1f}%, Avg loss: {test_loss:>8f} \\n\")\n",
    "\n",
    "    if correct > 0.95:\n",
    "        torch.save(net_model.state_dict(), \"MLPNet.pth\")\n",
    "        print(\"Saved PyTorch Model State to MLPNet.pth\")\n",
    "\n",
    "epochs = 10\n",
    "test_loader = DataLoader(VecLoader(preproc_model, is_test=True), batch_size=10, shuffle=False)\n",
    "for t in range(epochs):\n",
    "    print(f\"Epoch {t+1}\\n-------------------------------\")\n",
    "    train(train_loader, net_model, loss_fn, optimizer)\n",
    "    test(test_loader, net_model, loss_fn)\n",
    "\n",
    "print(\"Done!\")"
   ],
   "metadata": {
    "collapsed": false,
    "pycharm": {
     "name": "#%%\n"
    }
   }
  },
  {
   "cell_type": "code",
   "execution_count": 9,
   "outputs": [
    {
     "name": "stdout",
     "output_type": "stream",
     "text": [
      "tensor(0, device='cuda:0') 0.0\n",
      "tensor(1, device='cuda:0') 0.0\n",
      "tensor(1, device='cuda:0') 1.0\n",
      "tensor(0, device='cuda:0') 0.0\n",
      "tensor(1, device='cuda:0') 1.0\n"
     ]
    }
   ],
   "source": [
    "import random\n",
    "\n",
    "_, test = preproc_model.get_train_test_preprocd()\n",
    "for i in range(5):\n",
    "    n = random.randint(0, len(test))\n",
    "    x = torch.Tensor([test.iloc[n][test.columns[:-1]]]).to(torch.float32).to(device)\n",
    "    print(net_model(x).argmax(), test.iloc[n][test.columns[-1]])"
   ],
   "metadata": {
    "collapsed": false,
    "pycharm": {
     "name": "#%%\n"
    }
   }
  },
  {
   "cell_type": "code",
   "execution_count": 13,
   "outputs": [
    {
     "name": "stdout",
     "output_type": "stream",
     "text": [
      "tensor(0, device='cuda:0')\n",
      "tensor(0, device='cuda:0')\n",
      "tensor(0, device='cuda:0')\n",
      "tensor(0, device='cuda:0')\n",
      "tensor(0, device='cuda:0')\n"
     ]
    }
   ],
   "source": [
    "letter_arr = [\"Hi, how are you feeling? You haven't written for a long time, so I thought something might have happened.\",\n",
    "              'Only today! buy one king-size pizza, get one cola for free! Hurry up!',\n",
    "              'love you sweetie! ;)',\n",
    "              \"hey, do you want to get rich? do you want to afford everything you've been dreaming about for a long time? Buy my book and I'll tell you how to become rich!\",\n",
    "              'bae i cannot wait anymore. I want you now!']\n",
    "\n",
    "for letter in letter_arr:\n",
    "    print(net_model(torch.Tensor(preproc_model.preproc_letter(letter)).to(torch.float32).to(device)).argmax())"
   ],
   "metadata": {
    "collapsed": false,
    "pycharm": {
     "name": "#%%\n"
    }
   }
  },
  {
   "cell_type": "code",
   "execution_count": null,
   "outputs": [],
   "source": [],
   "metadata": {
    "collapsed": false,
    "pycharm": {
     "name": "#%%\n"
    }
   }
  }
 ],
 "metadata": {
  "kernelspec": {
   "display_name": "Python 3",
   "language": "python",
   "name": "python3"
  },
  "language_info": {
   "codemirror_mode": {
    "name": "ipython",
    "version": 2
   },
   "file_extension": ".py",
   "mimetype": "text/x-python",
   "name": "python",
   "nbconvert_exporter": "python",
   "pygments_lexer": "ipython2",
   "version": "2.7.6"
  }
 },
 "nbformat": 4,
 "nbformat_minor": 0
}